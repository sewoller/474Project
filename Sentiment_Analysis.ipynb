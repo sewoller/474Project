{
 "cells": [
  {
   "cell_type": "code",
   "execution_count": 9,
   "id": "f1696670-5da0-4c43-840c-9cc581ab9ed6",
   "metadata": {},
   "outputs": [],
   "source": [
    "#import libraries\n",
    "import pandas as pd\n",
    "from matplotlib import pyplot as plt\n",
    "\n",
    "# ignore warnings\n",
    "import warnings\n",
    "warnings.filterwarnings('ignore')"
   ]
  },
  {
   "cell_type": "code",
   "execution_count": 6,
   "id": "5f7611fa-40cf-461c-817d-854d780d9808",
   "metadata": {},
   "outputs": [],
   "source": [
    "# load datasets\n",
    "a = pd.read_csv('Answers_Processed.csv', low_memory=False)\n",
    "q = pd.read_csv('Questions_Processed.csv', low_memory=False)"
   ]
  },
  {
   "cell_type": "code",
   "execution_count": null,
   "id": "db539689-91e2-40d7-95f5-d2932cb7ff1b",
   "metadata": {},
   "outputs": [],
   "source": [
    "print(\"Questions: Body Sentiment by Language\")\n",
    "questions_master[\"body_sentiment\"].hist(by=questions_master[\"Tag\"], bins = 50)"
   ]
  },
  {
   "cell_type": "code",
   "execution_count": null,
   "id": "65c6f00f-8038-44de-a3b9-52ffbadc829e",
   "metadata": {},
   "outputs": [],
   "source": [
    "print(\"Answers: Body Sentiment by Language\")\n",
    "answers_master[\"body_sentiment\"].hist(by=answers_master[\"Tag\"], bins = 50)"
   ]
  },
  {
   "cell_type": "markdown",
   "id": "b54e4f4a-3534-4f68-b2dd-caec57ab47b2",
   "metadata": {},
   "source": [
    "We can see from the distribution of the sentiment analysis that the titles are almost entirely neutral. The sentiment of the body of the questions has a normal distribution for all the languages, with the vast majority of cases at or close to zero. There are slightly more cases above zero, so these would be categorized as 'neutral, leaning towards positive'. The body of the answers is similar, the vast majority are zero, with the rest following a normal distribution centered slightly above zero. This implies that the majority of answers can also be categorized as 'neutral' or 'neutral, leaning towards positive'. There are no great differences in the distribution of sentiment analysis between any of these languages. "
   ]
  }
 ],
 "metadata": {
  "kernelspec": {
   "display_name": "Python 3 (ipykernel)",
   "language": "python",
   "name": "python3"
  },
  "language_info": {
   "codemirror_mode": {
    "name": "ipython",
    "version": 3
   },
   "file_extension": ".py",
   "mimetype": "text/x-python",
   "name": "python",
   "nbconvert_exporter": "python",
   "pygments_lexer": "ipython3",
   "version": "3.10.2"
  }
 },
 "nbformat": 4,
 "nbformat_minor": 5
}
